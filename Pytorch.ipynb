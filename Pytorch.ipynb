{
 "cells": [
  {
   "cell_type": "code",
   "execution_count": 15,
   "metadata": {},
   "outputs": [
    {
     "name": "stdout",
     "output_type": "stream",
     "text": [
      "tensor([ 56.])\n",
      "tensor([ 10.])\n"
     ]
    }
   ],
   "source": [
    "import torch\n",
    "from torch.autograd import Variable\n",
    "x = Variable(torch.Tensor([3]), requires_grad = True) \n",
    "y = Variable(torch.Tensor([5]), requires_grad = True)\n",
    "z = 2*x + 10*y\n",
    "z.backward()\n",
    "print(z)\n",
    "print(y.grad.data)\n"
   ]
  },
  {
   "cell_type": "markdown",
   "metadata": {},
   "source": [
    "### 使用pytorch进行线性回归"
   ]
  },
  {
   "cell_type": "code",
   "execution_count": 23,
   "metadata": {},
   "outputs": [
    {
     "name": "stderr",
     "output_type": "stream",
     "text": [
      "/Users/gaochen3/.pyenv/versions/3.5.1/lib/python3.5/site-packages/ipykernel_launcher.py:37: UserWarning: invalid index of a 0-dim tensor. This will be an error in PyTorch 0.5. Use tensor.item() to convert a 0-dim tensor to a Python number\n"
     ]
    },
    {
     "name": "stdout",
     "output_type": "stream",
     "text": [
      "Epoch[20/1000], loss: 0.169054\n",
      "Epoch[40/1000], loss: 0.169026\n",
      "Epoch[60/1000], loss: 0.169006\n",
      "Epoch[80/1000], loss: 0.168992\n",
      "Epoch[100/1000], loss: 0.168982\n",
      "Epoch[120/1000], loss: 0.168975\n",
      "Epoch[140/1000], loss: 0.168970\n",
      "Epoch[160/1000], loss: 0.168967\n",
      "Epoch[180/1000], loss: 0.168964\n",
      "Epoch[200/1000], loss: 0.168962\n",
      "Epoch[220/1000], loss: 0.168961\n",
      "Epoch[240/1000], loss: 0.168960\n",
      "Epoch[260/1000], loss: 0.168959\n",
      "Epoch[280/1000], loss: 0.168959\n",
      "Epoch[300/1000], loss: 0.168959\n",
      "Epoch[320/1000], loss: 0.168958\n",
      "Epoch[340/1000], loss: 0.168958\n",
      "Epoch[360/1000], loss: 0.168958\n",
      "Epoch[380/1000], loss: 0.168958\n",
      "Epoch[400/1000], loss: 0.168958\n",
      "Epoch[420/1000], loss: 0.168958\n",
      "Epoch[440/1000], loss: 0.168958\n",
      "Epoch[460/1000], loss: 0.168957\n",
      "Epoch[480/1000], loss: 0.168957\n",
      "Epoch[500/1000], loss: 0.168957\n",
      "Epoch[520/1000], loss: 0.168957\n",
      "Epoch[540/1000], loss: 0.168957\n",
      "Epoch[560/1000], loss: 0.168957\n",
      "Epoch[580/1000], loss: 0.168957\n",
      "Epoch[600/1000], loss: 0.168957\n",
      "Epoch[620/1000], loss: 0.168957\n",
      "Epoch[640/1000], loss: 0.168957\n",
      "Epoch[660/1000], loss: 0.168957\n",
      "Epoch[680/1000], loss: 0.168957\n",
      "Epoch[700/1000], loss: 0.168957\n",
      "Epoch[720/1000], loss: 0.168957\n",
      "Epoch[740/1000], loss: 0.168957\n",
      "Epoch[760/1000], loss: 0.168957\n",
      "Epoch[780/1000], loss: 0.168957\n",
      "Epoch[800/1000], loss: 0.168957\n",
      "Epoch[820/1000], loss: 0.168957\n",
      "Epoch[840/1000], loss: 0.168957\n",
      "Epoch[860/1000], loss: 0.168957\n",
      "Epoch[880/1000], loss: 0.168957\n",
      "Epoch[900/1000], loss: 0.168956\n",
      "Epoch[920/1000], loss: 0.168956\n",
      "Epoch[940/1000], loss: 0.168956\n",
      "Epoch[960/1000], loss: 0.168956\n",
      "Epoch[980/1000], loss: 0.168956\n",
      "Epoch[1000/1000], loss: 0.168956\n"
     ]
    },
    {
     "data": {
      "image/png": "[encoded data removed]",
      "text/plain": [
       "<matplotlib.figure.Figure at 0x111cf5c50>"
      ]
     },
     "metadata": {},
     "output_type": "display_data"
    }
   ],
   "source": [
    "import torch\n",
    "from torch import nn, optim\n",
    "from torch.autograd import Variable\n",
    "import numpy as np\n",
    "import matplotlib.pyplot as plt\n",
    "\n",
    "x_train = np.array([[3.3], [4.4], [5.5], [6.71], [6.93], [4.168],\n",
    "                    [9.779], [6.182], [7.59], [2.167], [7.042],\n",
    "                    [10.791], [5.313], [7.997], [3.1]], dtype=np.float32)\n",
    "y_train = np.array([[1.7], [2.76], [2.09], [3.19], [1.694], [1.573],\n",
    "                    [3.366], [2.596], [2.53], [1.221], [2.827],\n",
    "                    [3.465], [1.65], [2.904], [1.3]], dtype=np.float32)\n",
    "x_train = torch.from_numpy(x_train)\n",
    "y_train = torch.from_numpy(y_train)\n",
    "class linearRegression(nn.Module):\n",
    "    def __init__(self):\n",
    "        super(linearRegression, self).__init__()\n",
    "        self.linear = nn.Linear(1, 1)\n",
    "    def forward(self, x):\n",
    "        out = self.linear(x)\n",
    "        return out\n",
    "model = linearRegression()\n",
    "criterion = nn.MSELoss()\n",
    "optimizer = optim.SGD(model.parameters(), lr=1e-4)\n",
    "\n",
    "num_epochs = 1000\n",
    "for epoch in range(num_epochs):\n",
    "    inputs = Variable(x_train)\n",
    "    target = Variable(y_train)\n",
    "    out = model.forward(inputs)\n",
    "    loss = criterion(out, target)\n",
    "    optimizer.zero_grad()\n",
    "    loss.backward()\n",
    "    optimizer.step()\n",
    "    if (epoch+1) % 20 == 0:\n",
    "        print('Epoch[{}/{}], loss: {:.6f}'\n",
    "              .format(epoch+1, num_epochs, loss.data[0]))\n",
    "model.eval()\n",
    "predict = model(Variable(x_train))\n",
    "predict = predict.data.numpy()\n",
    "plt.plot(x_train.numpy(), y_train.numpy(), 'ro', label='Original data')\n",
    "plt.plot(x_train.numpy(), predict, label='Fitting Line')\n",
    "# 显示图例\n",
    "plt.legend() \n",
    "plt.show()"
   ]
  },
  {
   "cell_type": "code",
   "execution_count": null,
   "metadata": {},
   "outputs": [],
   "source": []
  }
 ],
 "metadata": {
  "kernelspec": {
   "display_name": "Python 3",
   "language": "python",
   "name": "python3"
  },
  "language_info": {
   "codemirror_mode": {
    "name": "ipython",
    "version": 3
   },
   "file_extension": ".py",
   "mimetype": "text/x-python",
   "name": "python",
   "nbconvert_exporter": "python",
   "pygments_lexer": "ipython3",
   "version": "3.5.1"
  }
 },
 "nbformat": 4,
 "nbformat_minor": 2
}
